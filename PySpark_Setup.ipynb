{
  "nbformat": 4,
  "nbformat_minor": 0,
  "metadata": {
    "colab": {
      "name": "PySpark Setup.ipynb",
      "provenance": [],
      "authorship_tag": "ABX9TyP+3nwroCddb9zW3fZ4G4t/",
      "include_colab_link": true
    },
    "kernelspec": {
      "name": "python3",
      "display_name": "Python 3"
    }
  },
  "cells": [
    {
      "cell_type": "markdown",
      "metadata": {
        "id": "view-in-github",
        "colab_type": "text"
      },
      "source": [
        "<a href=\"https://colab.research.google.com/github/arifmarias/20776-Performing-Big-Data-Engineering-on-Microsoft-Cloud-Services-/blob/master/PySpark_Setup.ipynb\" target=\"_parent\"><img src=\"https://colab.research.google.com/assets/colab-badge.svg\" alt=\"Open In Colab\"/></a>"
      ]
    },
    {
      "cell_type": "markdown",
      "metadata": {
        "id": "nxiXDgzIm73i",
        "colab_type": "text"
      },
      "source": [
        "# Step 1: Install Dependencies\n",
        "We need to install following components to run pyspark seamlessly:\n",
        "* OpenJDK 8\n",
        "* Spark Environment\n",
        "* FindSpark package\n",
        "\n",
        "\n"
      ]
    },
    {
      "cell_type": "code",
      "metadata": {
        "id": "Dk_1o8T7lwPI",
        "colab_type": "code",
        "colab": {}
      },
      "source": [
        "!apt-get install openjdk-8-jdk-headless -qq > /dev/null"
      ],
      "execution_count": null,
      "outputs": []
    },
    {
      "cell_type": "code",
      "metadata": {
        "id": "OcNraX6zmLOK",
        "colab_type": "code",
        "colab": {}
      },
      "source": [
        "!wget -q https://downloads.apache.org/spark/spark-3.0.0/spark-3.0.0-bin-hadoop2.7.tgz"
      ],
      "execution_count": null,
      "outputs": []
    },
    {
      "cell_type": "code",
      "metadata": {
        "id": "itokMH54mUPY",
        "colab_type": "code",
        "colab": {}
      },
      "source": [
        "!tar xf spark-3.0.0-bin-hadoop2.7.tgz"
      ],
      "execution_count": null,
      "outputs": []
    },
    {
      "cell_type": "code",
      "metadata": {
        "id": "lFSYxK1nmchv",
        "colab_type": "code",
        "colab": {}
      },
      "source": [
        "!pip install -q findspark"
      ],
      "execution_count": null,
      "outputs": []
    },
    {
      "cell_type": "markdown",
      "metadata": {
        "id": "dwXoTpDWnFhv",
        "colab_type": "text"
      },
      "source": [
        "# Step 2: Add environment variables"
      ]
    },
    {
      "cell_type": "code",
      "metadata": {
        "id": "rgkFDI41mhS_",
        "colab_type": "code",
        "colab": {}
      },
      "source": [
        "import os\n",
        "os.environ[\"JAVA_HOME\"] = \"/usr/lib/jvm/java-8-openjdk-amd64\"\n",
        "os.environ[\"SPARK_HOME\"] = \"/content/spark-3.0.0-bin-hadoop2.7\""
      ],
      "execution_count": null,
      "outputs": []
    },
    {
      "cell_type": "markdown",
      "metadata": {
        "id": "QbpKu9FZnJQx",
        "colab_type": "text"
      },
      "source": [
        "# Step 3: Initilize pyspark"
      ]
    },
    {
      "cell_type": "code",
      "metadata": {
        "id": "tVxOv-mkmqTg",
        "colab_type": "code",
        "colab": {}
      },
      "source": [
        "import findspark\n",
        "findspark.init()"
      ],
      "execution_count": null,
      "outputs": []
    },
    {
      "cell_type": "markdown",
      "metadata": {
        "id": "8HZZYTbAnP5b",
        "colab_type": "text"
      },
      "source": [
        "# Step 4: Check if pyspark is properly installed or not"
      ]
    },
    {
      "cell_type": "code",
      "metadata": {
        "id": "RHX6UVx1mxlx",
        "colab_type": "code",
        "colab": {}
      },
      "source": [
        "import pyspark\n",
        "sc = pyspark.SparkContext(appName=\"MyApp\")"
      ],
      "execution_count": null,
      "outputs": []
    }
  ]
}